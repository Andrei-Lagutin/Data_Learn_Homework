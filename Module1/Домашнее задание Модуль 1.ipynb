{
 "cells": [
  {
   "attachments": {},
   "cell_type": "markdown",
   "metadata": {},
   "source": [
    "# Задания для модуля №1 #\n",
    "### Ход работы: ### \n",
    "#### 1) Был создан аккаунт на платформе GitHub. ####\n",
    "#### 2) Диаграмма была создана с помощью Lucid: ####\n",
    "\n",
    "\n",
    "![Арихтектура аналитического решения](https://ic.wampi.ru/2023/04/29/Treediagrams.jpg)\n",
    "\n",
    "#### 3) Аналитика в Excel:  ####\n",
    "\n",
    "Dashboard в Excel на основе таблицы из курса:\n",
    "[Ссылка на фаил Excel с Dashboard]()"
   ]
  }
 ],
 "metadata": {
  "kernelspec": {
   "display_name": "Python 3",
   "language": "python",
   "name": "python3"
  },
  "language_info": {
   "codemirror_mode": {
    "name": "ipython",
    "version": 3
   },
   "file_extension": ".py",
   "mimetype": "text/x-python",
   "name": "python",
   "nbconvert_exporter": "python",
   "pygments_lexer": "ipython3",
   "version": "3.11.3"
  },
  "orig_nbformat": 4
 },
 "nbformat": 4,
 "nbformat_minor": 2
}
